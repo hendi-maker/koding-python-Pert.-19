{
 "cells": [
  {
   "cell_type": "code",
   "execution_count": 23,
   "metadata": {},
   "outputs": [
    {
     "name": "stdout",
     "output_type": "stream",
     "text": [
      "Overwriting mapper.py\n"
     ]
    }
   ],
   "source": [
    "%%file mapper.py\n",
    "#!/home/ubuntu/anaconda3/bin/python\n",
    "\"\"\"\n",
    "Berikut adalah code pada mapper yang digunakan untuk melakukan transformasi data.\n",
    "<angka1 angka2 angka3> menjadi <ganjil, angka1> <genap, angka2> <ganjil, angka3>\n",
    "\"\"\"\n",
    "import sys\n",
    "\"\"\"\n",
    "Analisa kode berikut untuk menambahkan pemahaman anda!\n",
    "\"\"\"\n",
    "for line in sys.stdin:\n",
    "    value = int(line)\n",
    "    key = 0 if value % 2 == 0 else 1\n",
    "    print (\"%d %d\" % (key, value))"
   ]
  },
  {
   "cell_type": "code",
   "execution_count": 24,
   "metadata": {},
   "outputs": [
    {
     "name": "stdout",
     "output_type": "stream",
     "text": [
      "Overwriting reducer.py\n"
     ]
    }
   ],
   "source": [
    "%%file reducer.py\n",
    "#!/home/ubuntu/anaconda3/bin/python\n",
    "\"\"\"\n",
    "Berikut adalah code pada reducer yang digunakan untuk melakukan sum.\n",
    "<ganjil, angka1> <genap, angka2> <ganjil, angka3> menjadi <ganjil sum(angka1, angka2)> <genap, sum(angka3)>\n",
    "\"\"\"\n",
    "import sys\n",
    "\n",
    "\"\"\"\n",
    "Analisa kode berikut untuk menambahkan pemahaman anda!\n",
    "\"\"\"\n",
    "current_key = \"0\"\n",
    "current_sum = 0\n",
    "for line in sys.stdin:\n",
    "    key, value = line.split(\" \")\n",
    "    if key == current_key :\n",
    "        current_sum += int(value)\n",
    "    else:\n",
    "        print(current_sum)\n",
    "        current_key=key\n",
    "        current_sum = int(value)\n",
    "print(current_sum)"
   ]
  },
  {
   "cell_type": "code",
   "execution_count": 25,
   "metadata": {},
   "outputs": [],
   "source": [
    "#Kode berikut digunakan untuk membangkitkan data berupa angka 0 hingga 10000\n",
    "count = 10000\n",
    "with open(\"numbers.txt\", \"w\") as numbers:\n",
    "    for i in range(count):\n",
    "        numbers.write(\"%d\\n\" % (i+1))"
   ]
  },
  {
   "cell_type": "code",
   "execution_count": 26,
   "metadata": {},
   "outputs": [],
   "source": [
    "!chmod u+x mapper.py reducer.py"
   ]
  },
  {
   "cell_type": "code",
   "execution_count": 27,
   "metadata": {},
   "outputs": [
    {
     "name": "stdout",
     "output_type": "stream",
     "text": [
      "25005000\r\n",
      "25000000\r\n"
     ]
    }
   ],
   "source": [
    "!cat numbers.txt | python mapper.py | sort | python reducer.py"
   ]
  },
  {
   "cell_type": "code",
   "execution_count": 28,
   "metadata": {},
   "outputs": [
    {
     "name": "stdout",
     "output_type": "stream",
     "text": [
      "Deleted input/ganjilgenap\n",
      "rm: `output/ganjilgenap': No such file or directory\n"
     ]
    }
   ],
   "source": [
    "!hdfs dfs -rm -r input/ganjilgenap\n",
    "!hdfs dfs -rm -r output/ganjilgenap\n",
    "!hdfs dfs -mkdir -p input/ganjilgenap\n",
    "!hdfs dfs -put numbers.txt input/ganjilgenap"
   ]
  },
  {
   "cell_type": "code",
   "execution_count": 29,
   "metadata": {},
   "outputs": [
    {
     "name": "stdout",
     "output_type": "stream",
     "text": [
      "19/06/29 02:44:43 INFO Configuration.deprecation: session.id is deprecated. Instead, use dfs.metrics.session-id\n",
      "19/06/29 02:44:43 INFO jvm.JvmMetrics: Initializing JVM Metrics with processName=JobTracker, sessionId=\n",
      "19/06/29 02:44:43 INFO jvm.JvmMetrics: Cannot initialize JVM Metrics with processName=JobTracker, sessionId= - already initialized\n",
      "19/06/29 02:44:43 INFO mapred.FileInputFormat: Total input files to process : 1\n",
      "19/06/29 02:44:43 INFO mapreduce.JobSubmitter: number of splits:1\n",
      "19/06/29 02:44:44 INFO mapreduce.JobSubmitter: Submitting tokens for job: job_local1760443191_0001\n",
      "19/06/29 02:44:44 INFO mapreduce.Job: The url to track the job: http://localhost:8080/\n",
      "19/06/29 02:44:44 INFO mapreduce.Job: Running job: job_local1760443191_0001\n",
      "19/06/29 02:44:44 INFO mapred.LocalJobRunner: OutputCommitter set in config null\n",
      "19/06/29 02:44:44 INFO mapred.LocalJobRunner: OutputCommitter is org.apache.hadoop.mapred.FileOutputCommitter\n",
      "19/06/29 02:44:44 INFO output.FileOutputCommitter: File Output Committer Algorithm version is 1\n",
      "19/06/29 02:44:44 INFO output.FileOutputCommitter: FileOutputCommitter skip cleanup _temporary folders under output directory:false, ignore cleanup failures: false\n",
      "19/06/29 02:44:44 INFO mapred.LocalJobRunner: Waiting for map tasks\n",
      "19/06/29 02:44:44 INFO mapred.LocalJobRunner: Starting task: attempt_local1760443191_0001_m_000000_0\n",
      "19/06/29 02:44:44 INFO output.FileOutputCommitter: File Output Committer Algorithm version is 1\n",
      "19/06/29 02:44:44 INFO output.FileOutputCommitter: FileOutputCommitter skip cleanup _temporary folders under output directory:false, ignore cleanup failures: false\n",
      "19/06/29 02:44:44 INFO mapred.Task:  Using ResourceCalculatorProcessTree : [ ]\n",
      "19/06/29 02:44:44 INFO mapred.MapTask: Processing split: hdfs://localhost:8020/user/ubuntu/input/ganjilgenap/numbers.txt:0+48894\n",
      "19/06/29 02:44:44 INFO mapred.MapTask: numReduceTasks: 1\n",
      "19/06/29 02:44:44 INFO mapred.MapTask: (EQUATOR) 0 kvi 26214396(104857584)\n",
      "19/06/29 02:44:44 INFO mapred.MapTask: mapreduce.task.io.sort.mb: 100\n",
      "19/06/29 02:44:44 INFO mapred.MapTask: soft limit at 83886080\n",
      "19/06/29 02:44:44 INFO mapred.MapTask: bufstart = 0; bufvoid = 104857600\n",
      "19/06/29 02:44:44 INFO mapred.MapTask: kvstart = 26214396; length = 6553600\n",
      "19/06/29 02:44:44 INFO mapred.MapTask: Map output collector class = org.apache.hadoop.mapred.MapTask$MapOutputBuffer\n",
      "19/06/29 02:44:44 INFO streaming.PipeMapRed: PipeMapRed exec [/home/ubuntu/notebook/ganjilgenap/./mapper.py]\n",
      "19/06/29 02:44:44 INFO Configuration.deprecation: mapred.work.output.dir is deprecated. Instead, use mapreduce.task.output.dir\n",
      "19/06/29 02:44:44 INFO Configuration.deprecation: map.input.start is deprecated. Instead, use mapreduce.map.input.start\n",
      "19/06/29 02:44:44 INFO Configuration.deprecation: mapred.task.is.map is deprecated. Instead, use mapreduce.task.ismap\n",
      "19/06/29 02:44:44 INFO Configuration.deprecation: mapred.task.id is deprecated. Instead, use mapreduce.task.attempt.id\n",
      "19/06/29 02:44:44 INFO Configuration.deprecation: mapred.tip.id is deprecated. Instead, use mapreduce.task.id\n",
      "19/06/29 02:44:44 INFO Configuration.deprecation: mapred.local.dir is deprecated. Instead, use mapreduce.cluster.local.dir\n",
      "19/06/29 02:44:44 INFO Configuration.deprecation: map.input.file is deprecated. Instead, use mapreduce.map.input.file\n",
      "19/06/29 02:44:44 INFO Configuration.deprecation: mapred.skip.on is deprecated. Instead, use mapreduce.job.skiprecords\n",
      "19/06/29 02:44:44 INFO Configuration.deprecation: map.input.length is deprecated. Instead, use mapreduce.map.input.length\n",
      "19/06/29 02:44:44 INFO Configuration.deprecation: mapred.job.id is deprecated. Instead, use mapreduce.job.id\n",
      "19/06/29 02:44:44 INFO Configuration.deprecation: user.name is deprecated. Instead, use mapreduce.job.user.name\n",
      "19/06/29 02:44:44 INFO Configuration.deprecation: mapred.task.partition is deprecated. Instead, use mapreduce.task.partition\n",
      "19/06/29 02:44:45 INFO streaming.PipeMapRed: R/W/S=1/0/0 in:NA [rec/s] out:NA [rec/s]\n",
      "19/06/29 02:44:45 INFO streaming.PipeMapRed: R/W/S=10/0/0 in:NA [rec/s] out:NA [rec/s]\n",
      "19/06/29 02:44:45 INFO streaming.PipeMapRed: R/W/S=100/0/0 in:NA [rec/s] out:NA [rec/s]\n",
      "19/06/29 02:44:45 INFO streaming.PipeMapRed: R/W/S=1000/0/0 in:NA [rec/s] out:NA [rec/s]\n",
      "19/06/29 02:44:45 INFO streaming.PipeMapRed: R/W/S=10000/0/0 in:NA [rec/s] out:NA [rec/s]\n",
      "19/06/29 02:44:45 INFO streaming.PipeMapRed: Records R/W=10000/1\n",
      "19/06/29 02:44:45 INFO streaming.PipeMapRed: MRErrorThread done\n",
      "19/06/29 02:44:45 INFO streaming.PipeMapRed: mapRedFinished\n",
      "19/06/29 02:44:45 INFO mapred.LocalJobRunner: \n",
      "19/06/29 02:44:45 INFO mapred.MapTask: Starting flush of map output\n",
      "19/06/29 02:44:45 INFO mapred.MapTask: Spilling map output\n",
      "19/06/29 02:44:45 INFO mapred.MapTask: bufstart = 0; bufend = 78894; bufvoid = 104857600\n",
      "19/06/29 02:44:45 INFO mapred.MapTask: kvstart = 26214396(104857584); kvend = 26174400(104697600); length = 39997/6553600\n",
      "19/06/29 02:44:45 INFO mapreduce.Job: Job job_local1760443191_0001 running in uber mode : false\n",
      "19/06/29 02:44:45 INFO mapreduce.Job:  map 0% reduce 0%\n",
      "19/06/29 02:44:45 INFO mapred.MapTask: Finished spill 0\n",
      "19/06/29 02:44:45 INFO mapred.Task: Task:attempt_local1760443191_0001_m_000000_0 is done. And is in the process of committing\n",
      "19/06/29 02:44:45 INFO mapred.LocalJobRunner: Records R/W=10000/1\n",
      "19/06/29 02:44:45 INFO mapred.Task: Task 'attempt_local1760443191_0001_m_000000_0' done.\n",
      "19/06/29 02:44:45 INFO mapred.Task: Final Counters for attempt_local1760443191_0001_m_000000_0: Counters: 22\n",
      "\tFile System Counters\n",
      "\t\tFILE: Number of bytes read=134054\n",
      "\t\tFILE: Number of bytes written=597934\n",
      "\t\tFILE: Number of read operations=0\n",
      "\t\tFILE: Number of large read operations=0\n",
      "\t\tFILE: Number of write operations=0\n",
      "\t\tHDFS: Number of bytes read=48894\n",
      "\t\tHDFS: Number of bytes written=0\n",
      "\t\tHDFS: Number of read operations=5\n",
      "\t\tHDFS: Number of large read operations=0\n",
      "\t\tHDFS: Number of write operations=1\n",
      "\tMap-Reduce Framework\n",
      "\t\tMap input records=10000\n",
      "\t\tMap output records=10000\n",
      "\t\tMap output bytes=78894\n",
      "\t\tMap output materialized bytes=98900\n",
      "\t\tInput split bytes=115\n",
      "\t\tCombine input records=0\n",
      "\t\tSpilled Records=10000\n",
      "\t\tFailed Shuffles=0\n",
      "\t\tMerged Map outputs=0\n",
      "\t\tGC time elapsed (ms)=42\n",
      "\t\tTotal committed heap usage (bytes)=121180160\n",
      "\tFile Input Format Counters \n",
      "\t\tBytes Read=48894\n",
      "19/06/29 02:44:45 INFO mapred.LocalJobRunner: Finishing task: attempt_local1760443191_0001_m_000000_0\n",
      "19/06/29 02:44:45 INFO mapred.LocalJobRunner: map task executor complete.\n",
      "19/06/29 02:44:45 INFO mapred.LocalJobRunner: Waiting for reduce tasks\n",
      "19/06/29 02:44:45 INFO mapred.LocalJobRunner: Starting task: attempt_local1760443191_0001_r_000000_0\n",
      "19/06/29 02:44:45 INFO output.FileOutputCommitter: File Output Committer Algorithm version is 1\n",
      "19/06/29 02:44:45 INFO output.FileOutputCommitter: FileOutputCommitter skip cleanup _temporary folders under output directory:false, ignore cleanup failures: false\n",
      "19/06/29 02:44:45 INFO mapred.Task:  Using ResourceCalculatorProcessTree : [ ]\n",
      "19/06/29 02:44:45 INFO mapred.ReduceTask: Using ShuffleConsumerPlugin: org.apache.hadoop.mapreduce.task.reduce.Shuffle@1dc4fabc\n",
      "19/06/29 02:44:45 INFO reduce.MergeManagerImpl: MergerManager: memoryLimit=363285696, maxSingleShuffleLimit=90821424, mergeThreshold=239768576, ioSortFactor=10, memToMemMergeOutputsThreshold=10\n",
      "19/06/29 02:44:45 INFO reduce.EventFetcher: attempt_local1760443191_0001_r_000000_0 Thread started: EventFetcher for fetching Map Completion Events\n",
      "19/06/29 02:44:45 INFO reduce.LocalFetcher: localfetcher#1 about to shuffle output of map attempt_local1760443191_0001_m_000000_0 decomp: 98896 len: 98900 to MEMORY\n",
      "19/06/29 02:44:45 INFO reduce.InMemoryMapOutput: Read 98896 bytes from map-output for attempt_local1760443191_0001_m_000000_0\n",
      "19/06/29 02:44:45 INFO reduce.MergeManagerImpl: closeInMemoryFile -> map-output of size: 98896, inMemoryMapOutputs.size() -> 1, commitMemory -> 0, usedMemory ->98896\n",
      "19/06/29 02:44:45 INFO reduce.EventFetcher: EventFetcher is interrupted.. Returning\n",
      "19/06/29 02:44:45 INFO mapred.LocalJobRunner: 1 / 1 copied.\n",
      "19/06/29 02:44:45 INFO reduce.MergeManagerImpl: finalMerge called with 1 in-memory map-outputs and 0 on-disk map-outputs\n",
      "19/06/29 02:44:45 INFO mapred.Merger: Merging 1 sorted segments\n",
      "19/06/29 02:44:45 INFO mapred.Merger: Down to the last merge-pass, with 1 segments left of total size: 98889 bytes\n"
     ]
    },
    {
     "name": "stdout",
     "output_type": "stream",
     "text": [
      "19/06/29 02:44:45 INFO reduce.MergeManagerImpl: Merged 1 segments, 98896 bytes to disk to satisfy reduce memory limit\n",
      "19/06/29 02:44:45 INFO reduce.MergeManagerImpl: Merging 1 files, 98900 bytes from disk\n",
      "19/06/29 02:44:45 INFO reduce.MergeManagerImpl: Merging 0 segments, 0 bytes from memory into reduce\n",
      "19/06/29 02:44:45 INFO mapred.Merger: Merging 1 sorted segments\n",
      "19/06/29 02:44:45 INFO mapred.Merger: Down to the last merge-pass, with 1 segments left of total size: 98889 bytes\n",
      "19/06/29 02:44:45 INFO mapred.LocalJobRunner: 1 / 1 copied.\n",
      "19/06/29 02:44:45 INFO streaming.PipeMapRed: PipeMapRed exec [/home/ubuntu/notebook/ganjilgenap/./reducer.py]\n",
      "19/06/29 02:44:45 INFO Configuration.deprecation: mapred.job.tracker is deprecated. Instead, use mapreduce.jobtracker.address\n",
      "19/06/29 02:44:45 INFO Configuration.deprecation: mapred.map.tasks is deprecated. Instead, use mapreduce.job.maps\n",
      "19/06/29 02:44:46 INFO streaming.PipeMapRed: R/W/S=1/0/0 in:NA [rec/s] out:NA [rec/s]\n",
      "19/06/29 02:44:46 INFO streaming.PipeMapRed: R/W/S=10/0/0 in:NA [rec/s] out:NA [rec/s]\n",
      "19/06/29 02:44:46 INFO streaming.PipeMapRed: R/W/S=100/0/0 in:NA [rec/s] out:NA [rec/s]\n",
      "19/06/29 02:44:46 INFO streaming.PipeMapRed: R/W/S=1000/0/0 in:NA [rec/s] out:NA [rec/s]\n",
      "19/06/29 02:44:46 INFO streaming.PipeMapRed: R/W/S=10000/0/0 in:NA [rec/s] out:NA [rec/s]\n",
      "19/06/29 02:44:46 INFO streaming.PipeMapRed: Records R/W=10000/1\n",
      "19/06/29 02:44:46 INFO streaming.PipeMapRed: MRErrorThread done\n",
      "19/06/29 02:44:46 INFO streaming.PipeMapRed: mapRedFinished\n",
      "19/06/29 02:44:46 INFO mapred.Task: Task:attempt_local1760443191_0001_r_000000_0 is done. And is in the process of committing\n",
      "19/06/29 02:44:46 INFO mapred.LocalJobRunner: 1 / 1 copied.\n",
      "19/06/29 02:44:46 INFO mapred.Task: Task attempt_local1760443191_0001_r_000000_0 is allowed to commit now\n",
      "19/06/29 02:44:46 INFO output.FileOutputCommitter: Saved output of task 'attempt_local1760443191_0001_r_000000_0' to hdfs://localhost:8020/user/ubuntu/output/ganjilgenap/_temporary/0/task_local1760443191_0001_r_000000\n",
      "19/06/29 02:44:46 INFO mapred.LocalJobRunner: Records R/W=10000/1 > reduce\n",
      "19/06/29 02:44:46 INFO mapred.Task: Task 'attempt_local1760443191_0001_r_000000_0' done.\n",
      "19/06/29 02:44:46 INFO mapred.Task: Final Counters for attempt_local1760443191_0001_r_000000_0: Counters: 29\n",
      "\tFile System Counters\n",
      "\t\tFILE: Number of bytes read=331886\n",
      "\t\tFILE: Number of bytes written=696834\n",
      "\t\tFILE: Number of read operations=0\n",
      "\t\tFILE: Number of large read operations=0\n",
      "\t\tFILE: Number of write operations=0\n",
      "\t\tHDFS: Number of bytes read=48894\n",
      "\t\tHDFS: Number of bytes written=20\n",
      "\t\tHDFS: Number of read operations=8\n",
      "\t\tHDFS: Number of large read operations=0\n",
      "\t\tHDFS: Number of write operations=3\n",
      "\tMap-Reduce Framework\n",
      "\t\tCombine input records=0\n",
      "\t\tCombine output records=0\n",
      "\t\tReduce input groups=10000\n",
      "\t\tReduce shuffle bytes=98900\n",
      "\t\tReduce input records=10000\n",
      "\t\tReduce output records=2\n",
      "\t\tSpilled Records=10000\n",
      "\t\tShuffled Maps =1\n",
      "\t\tFailed Shuffles=0\n",
      "\t\tMerged Map outputs=1\n",
      "\t\tGC time elapsed (ms)=10\n",
      "\t\tTotal committed heap usage (bytes)=121180160\n",
      "\tShuffle Errors\n",
      "\t\tBAD_ID=0\n",
      "\t\tCONNECTION=0\n",
      "\t\tIO_ERROR=0\n",
      "\t\tWRONG_LENGTH=0\n",
      "\t\tWRONG_MAP=0\n",
      "\t\tWRONG_REDUCE=0\n",
      "\tFile Output Format Counters \n",
      "\t\tBytes Written=20\n",
      "19/06/29 02:44:46 INFO mapred.LocalJobRunner: Finishing task: attempt_local1760443191_0001_r_000000_0\n",
      "19/06/29 02:44:46 INFO mapred.LocalJobRunner: reduce task executor complete.\n",
      "19/06/29 02:44:46 INFO mapreduce.Job:  map 100% reduce 100%\n",
      "19/06/29 02:44:47 INFO mapreduce.Job: Job job_local1760443191_0001 completed successfully\n",
      "19/06/29 02:44:49 INFO mapreduce.Job: Counters: 35\n",
      "\tFile System Counters\n",
      "\t\tFILE: Number of bytes read=465940\n",
      "\t\tFILE: Number of bytes written=1294768\n",
      "\t\tFILE: Number of read operations=0\n",
      "\t\tFILE: Number of large read operations=0\n",
      "\t\tFILE: Number of write operations=0\n",
      "\t\tHDFS: Number of bytes read=97788\n",
      "\t\tHDFS: Number of bytes written=20\n",
      "\t\tHDFS: Number of read operations=13\n",
      "\t\tHDFS: Number of large read operations=0\n",
      "\t\tHDFS: Number of write operations=4\n",
      "\tMap-Reduce Framework\n",
      "\t\tMap input records=10000\n",
      "\t\tMap output records=10000\n",
      "\t\tMap output bytes=78894\n",
      "\t\tMap output materialized bytes=98900\n",
      "\t\tInput split bytes=115\n",
      "\t\tCombine input records=0\n",
      "\t\tCombine output records=0\n",
      "\t\tReduce input groups=10000\n",
      "\t\tReduce shuffle bytes=98900\n",
      "\t\tReduce input records=10000\n",
      "\t\tReduce output records=2\n",
      "\t\tSpilled Records=20000\n",
      "\t\tShuffled Maps =1\n",
      "\t\tFailed Shuffles=0\n",
      "\t\tMerged Map outputs=1\n",
      "\t\tGC time elapsed (ms)=52\n",
      "\t\tTotal committed heap usage (bytes)=242360320\n",
      "\tShuffle Errors\n",
      "\t\tBAD_ID=0\n",
      "\t\tCONNECTION=0\n",
      "\t\tIO_ERROR=0\n",
      "\t\tWRONG_LENGTH=0\n",
      "\t\tWRONG_MAP=0\n",
      "\t\tWRONG_REDUCE=0\n",
      "\tFile Input Format Counters \n",
      "\t\tBytes Read=48894\n",
      "\tFile Output Format Counters \n",
      "\t\tBytes Written=20\n",
      "19/06/29 02:44:50 INFO streaming.StreamJob: Output directory: output/ganjilgenap\n"
     ]
    }
   ],
   "source": [
    "!hadoop jar /home/ubuntu/hadoop-2.8.5/share/hadoop/tools/lib/hadoop-streaming-2.8.5.jar \\\n",
    "-mapper mapper.py \\\n",
    "-reducer reducer.py \\\n",
    "-input input/ganjilgenap/numbers.txt \\\n",
    "-output output/ganjilgenap"
   ]
  },
  {
   "cell_type": "code",
   "execution_count": 30,
   "metadata": {},
   "outputs": [
    {
     "name": "stdout",
     "output_type": "stream",
     "text": [
      "25005000\t\r\n",
      "25000000\t\r\n"
     ]
    }
   ],
   "source": [
    "!hdfs dfs -cat output/ganjilgenap/*"
   ]
  }
 ],
 "metadata": {
  "kernelspec": {
   "display_name": "Python 3",
   "language": "python",
   "name": "python3"
  },
  "language_info": {
   "codemirror_mode": {
    "name": "ipython",
    "version": 3
   },
   "file_extension": ".py",
   "mimetype": "text/x-python",
   "name": "python",
   "nbconvert_exporter": "python",
   "pygments_lexer": "ipython3",
   "version": "3.6.8"
  }
 },
 "nbformat": 4,
 "nbformat_minor": 2
}
